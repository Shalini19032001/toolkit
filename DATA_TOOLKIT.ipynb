{
  "nbformat": 4,
  "nbformat_minor": 0,
  "metadata": {
    "colab": {
      "provenance": []
    },
    "kernelspec": {
      "name": "python3",
      "display_name": "Python 3"
    },
    "language_info": {
      "name": "python"
    }
  },
  "cells": [
    {
      "cell_type": "markdown",
      "source": [
        "#THEORY QUESTIONS"
      ],
      "metadata": {
        "id": "dRVkgOKRAUt_"
      }
    },
    {
      "cell_type": "markdown",
      "source": [
        "1.What is NumPy, and why is it widely used in Python?\n",
        "\n",
        "- NumPy (Numerical Python) is a Python library for numerical computing. It provides support for large, multi-dimensional arrays and matrices, along with a collection of mathematical functions to operate on them. It is widely used because it offers fast computations due to optimized C and Fortran implementations and supports vectorized operations."
      ],
      "metadata": {
        "id": "bQ7O3x-MAak5"
      }
    },
    {
      "cell_type": "markdown",
      "source": [
        "2. How does broadcasting work in NumPy\n",
        "\n",
        "- Broadcasting allows NumPy to perform arithmetic operations on arrays of different shapes by automatically expanding the smaller array’s dimensions to match the larger one. This eliminates the need for explicit looping."
      ],
      "metadata": {
        "id": "OXYrCQZsAyJN"
      }
    },
    {
      "cell_type": "markdown",
      "source": [
        "4. Explain the use of the group by() method in Pandas.\n",
        "\n",
        "- The group by() method in Pandas is used to split a dataset into groups based on a specified column and then apply an aggregate function (e.g., sum, mean, count) to those groups."
      ],
      "metadata": {
        "id": "vZr89ezaBHdM"
      }
    },
    {
      "cell_type": "markdown",
      "source": [
        "3.What is a Pandas DataFrame\n",
        "\n",
        "- A Pandas DataFrame is a two-dimensional, tabular data structure with labeled rows and columns, similar to an Excel spreadsheet or SQL table. It is widely used for data manipulation and analysis."
      ],
      "metadata": {
        "id": "ot1gp2MuBAO3"
      }
    },
    {
      "cell_type": "markdown",
      "source": [
        "5. Why is Seaborn preferred for statistical visualizations\n",
        "\n",
        "- Seaborn is preferred because it provides aesthetically pleasing and informative visualizations with built-in statistical analysis features. It simplifies complex plots like heatmaps, pair plots, and violin plots."
      ],
      "metadata": {
        "id": "S7qV4HvSBS6M"
      }
    },
    {
      "cell_type": "markdown",
      "source": [
        "6.What are the differences between NumPy arrays and Python lists?\n",
        "\n",
        "- NumPy arrays have fixed data types, whereas Python lists can store different data types.\n",
        "- NumPy arrays offer better performance and memory efficiency due to optimized C implementations.\n",
        "Operations on NumPy arrays are faster because of vectorization."
      ],
      "metadata": {
        "id": "gsfOPMEiBaZX"
      }
    },
    {
      "cell_type": "markdown",
      "source": [
        "7. What is a heatmap, and when should it be used?\n",
        "\n",
        "- A heatmap is a graphical representation of data where values are represented by color gradients. It is commonly used to visualize correlation matrices and detect patterns in large datasets."
      ],
      "metadata": {
        "id": "BYexbnk5BiYn"
      }
    },
    {
      "cell_type": "markdown",
      "source": [
        "8. What does the term “vectorized operation” mean in NumPy?\n",
        "\n",
        "- A vectorized operation refers to performing operations on entire arrays without using explicit loops. This makes computations significantly faster."
      ],
      "metadata": {
        "id": "ymZGs3wrBsJ9"
      }
    },
    {
      "cell_type": "markdown",
      "source": [
        "9.How does Matplotlib differ from Plotly?\n",
        "\n",
        "- Matplotlib is static and better suited for traditional plots.\n",
        "Plotly is interactive, allowing zooming, panning, and dynamic visualizations."
      ],
      "metadata": {
        "id": "yK0k2U4CBzrI"
      }
    },
    {
      "cell_type": "markdown",
      "source": [
        "10. What is the significance of hierarchical indexing in Pandas?\n",
        "\n",
        "- Hierarchical indexing allows multiple levels of index labels, making it easier to work with multi-dimensional data in a tabular format."
      ],
      "metadata": {
        "id": "i8IvFsiZB8t-"
      }
    },
    {
      "cell_type": "markdown",
      "source": [
        "11. What is the role of Seaborn’s pair plot() function?\n",
        "\n",
        "- pairplot() creates pairwise scatter plots for numerical data, helping to visualize relationships between multiple variables."
      ],
      "metadata": {
        "id": "cqAd08p-CEEC"
      }
    },
    {
      "cell_type": "markdown",
      "source": [
        "12.What is the purpose of the describe() function in Pandas?\n",
        "\n",
        "- It provides summary statistics such as count, mean, standard deviation, min, and max for numerical columns."
      ],
      "metadata": {
        "id": "szymD61bCNlJ"
      }
    },
    {
      "cell_type": "markdown",
      "source": [
        "13. Why is handling missing data important in Pandas?\n",
        "\n",
        "- Handling missing data prevents inaccuracies in analysis and ensures data consistency."
      ],
      "metadata": {
        "id": "QCAH4I1zCz7l"
      }
    },
    {
      "cell_type": "markdown",
      "source": [
        "14. What are the benefits of using Plotly for data visualization?\n",
        "\n",
        "- Interactive and visually appealing charts\n",
        "Built-in support for web-based dashboards\n",
        "Easy integration with Python and JavaScript."
      ],
      "metadata": {
        "id": "Ao-3djkzC_B5"
      }
    },
    {
      "cell_type": "markdown",
      "source": [
        "15. How does NumPy handle multidimensional arrays?\n",
        "\n",
        "- NumPy represents multidimensional arrays using ndarray, where dimensions are referred to as axes."
      ],
      "metadata": {
        "id": "DTNJGkw9DHY3"
      }
    },
    {
      "cell_type": "markdown",
      "source": [
        "16. What is the role of Bokeh in data visualization?\n",
        "\n",
        "- Bokeh is used to create interactive web-based visualizations and dashboards."
      ],
      "metadata": {
        "id": "Wr0vDJEkDYDw"
      }
    },
    {
      "cell_type": "markdown",
      "source": [
        "17. Explain the difference between apply() and map() in Pandas.\n",
        "- apply(): Used on DataFrames/Series for applying functions to rows/columns.\n",
        "- map(): Used on Series to apply functions to each element."
      ],
      "metadata": {
        "id": "ejlfR2e4EyAS"
      }
    },
    {
      "cell_type": "markdown",
      "source": [
        "18.What are some advanced features of NumPy?\n",
        "- Broadcasting\n",
        "-Linear algebra functions\n",
        "-Fourier transforms\n",
        "-Random number generation\n",
        "-Universal functions (ufuncs)"
      ],
      "metadata": {
        "id": "WWFvU6tScWep"
      }
    },
    {
      "cell_type": "markdown",
      "source": [
        "19. How does Pandas simplify time series analysis?\n",
        "- Pandas has built-in support for date-time indexing, resampling, and rolling window calculations, making time series analysis easier."
      ],
      "metadata": {
        "id": "s6bWezpick6y"
      }
    },
    {
      "cell_type": "markdown",
      "source": [
        "20. What is the role of a pivot table in Pandas?\n",
        "- A pivot table summarizes and reorganizes data, allowing aggregation like sum, mean, and count."
      ],
      "metadata": {
        "id": "MPBYEhB2cs25"
      }
    },
    {
      "cell_type": "markdown",
      "source": [
        "21.Why is NumPy’s array slicing faster than Python’s list slicing?\n",
        "- NumPy uses contiguous memory storage, enabling efficient slicing without copying data."
      ],
      "metadata": {
        "id": "U3Ba1sY2czZS"
      }
    },
    {
      "cell_type": "markdown",
      "source": [
        "22. What are some common use cases for Seaborn?\n",
        "- Correlation heatmaps\n",
        "-Pair plots\n",
        "-Distribution plots\n",
        "-Categorical plots"
      ],
      "metadata": {
        "id": "D26MrJxoc-sy"
      }
    },
    {
      "cell_type": "markdown",
      "source": [
        "# PRACTICAL QUESTIONS"
      ],
      "metadata": {
        "id": "cfILmLEadHCD"
      }
    },
    {
      "cell_type": "markdown",
      "source": [
        "1.How do you create a 2D NumPy array and calculate the sum of each row.\n",
        "- import numpy as np\n",
        "       arr = np.array([[1, 2, 3], [4, 5, 6]])\n",
        "       row_sums = np.sum(arr, axis=1)\n",
        "       print(row_sums)"
      ],
      "metadata": {
        "id": "xUS9yiPydXPL"
      }
    },
    {
      "cell_type": "markdown",
      "source": [
        "2. Write a Pandas script to find the mean of a specific column in a DataFrame.\n",
        "- import pandas as pd\n",
        "      df = pd.DataFrame({'A': [1, 2, 3, 4]})\n",
        "         print(df['A'].mean())"
      ],
      "metadata": {
        "id": "LXpBz0ELdx4i"
      }
    },
    {
      "cell_type": "markdown",
      "source": [
        "3. Create a scatter plot using Matplotlib.\n",
        "- import matplotlib.pyplot as plt\n",
        "           x = [1, 2, 3, 4]\n",
        "           y = [10, 20, 25, 30]\n",
        "           plt.scatter(x, y)\n",
        "           plt.show()"
      ],
      "metadata": {
        "id": "G6Jxn_PteGci"
      }
    },
    {
      "cell_type": "markdown",
      "source": [
        "4. How do you calculate the correlation matrix using Seaborn and visualize it with a heatmap?\n",
        "- import seaborn as sns\n",
        "  import numpy as np\n",
        "import pandas as pd\n",
        "import matplotlib.pyplot as plt\n",
        "\n",
        "         data = np.random.rand(10, 10)\n",
        "         df = pd.DataFrame(data)\n",
        "          corr = df.corr()\n",
        "\n",
        "       sns.heatmap(corr, annot=True, cmap='coolwarm')\n",
        "plt.show()"
      ],
      "metadata": {
        "id": "XfFHGblwebHJ"
      }
    },
    {
      "cell_type": "markdown",
      "source": [
        "5. Generate a bar plot using Plotly.\n",
        "- import plotly.express as px\n",
        "         df = px.data.gapminder().query(\"year == 2007\")\n",
        "         fig = px.bar(df, x=\"continent\", y=\"pop\")\n",
        "         fig.show()"
      ],
      "metadata": {
        "id": "ArhBbifwewEr"
      }
    },
    {
      "cell_type": "markdown",
      "source": [
        "6.Create a DataFrame and add a new column based on an existing column.\n",
        "-                                         df['B'] = df['A'] * 2\n",
        "     print(df)"
      ],
      "metadata": {
        "id": "mYsJS05cfAqe"
      }
    },
    {
      "cell_type": "markdown",
      "source": [
        "7. Write a program to perform element-wise multiplication of two NumPy arrays.\n",
        "-   arr1 = np.array([1, 2, 3])\n",
        "          arr2 = np.array([4, 5, 6])\n",
        "          result = arr1 * arr2\n",
        "            print(result)"
      ],
      "metadata": {
        "id": "PS68K5Y3fO0d"
      }
    },
    {
      "cell_type": "markdown",
      "source": [
        "8. Create a line plot with multiple lines using Matplotlib.\n",
        "- plt.plot([1, 2, 3], [4, 5, 6], label=\"Line 1\")\n",
        "      plt.plot([1, 2, 3], [7, 8, 9],           label=\"Line 2\")\n",
        "      plt.legend()\n",
        "      plt.show()"
      ],
      "metadata": {
        "id": "RnrgxbYJfsSe"
      }
    },
    {
      "cell_type": "markdown",
      "source": [
        "9.Generate a Pandas DataFrame and filter rows where a column value is greater than a threshold.\n",
        "- df_filtered = df[df['A'] > 2]\n",
        "        print(df_filtered)"
      ],
      "metadata": {
        "id": "zc--E3NlgKwJ"
      }
    },
    {
      "cell_type": "markdown",
      "source": [
        "10.Create a histogram using Seaborn to visualize a distribution.\n",
        "- sns.histplot(df['A'])\n",
        "      plt.show()"
      ],
      "metadata": {
        "id": "pFez9kUxgVFE"
      }
    },
    {
      "cell_type": "markdown",
      "source": [
        "11. Perform matrix multiplication using NumPy.\n",
        "- mat1 = np.array([[1, 2], [3, 4]])\n",
        "        mat2 = np.array([[5, 6], [7, 8]])\n",
        "        result = np.dot(mat1, mat2)\n",
        "        print(result)"
      ],
      "metadata": {
        "id": "oVrQTeamgbqA"
      }
    },
    {
      "cell_type": "markdown",
      "source": [
        "12.Use Pandas to load a CSV file and display its first 5 rows.\n",
        "- df = pd.read_csv(\"file.csv\")\n",
        "      print(df.head())"
      ],
      "metadata": {
        "id": "idFBMKSCgo8_"
      }
    },
    {
      "cell_type": "markdown",
      "source": [
        "13. Create a 3D scatter plot using Plotly.\n",
        "- import plotly.graph_objects as go\n",
        "      fig = go.Figure(data=[go.Scatter3d(x=[1,2,3], y=[4,5,6], z=[7,8,9], mode='markers')])\n",
        "      fig.show()"
      ],
      "metadata": {
        "id": "004J3mfXgxx_"
      }
    }
  ]
}